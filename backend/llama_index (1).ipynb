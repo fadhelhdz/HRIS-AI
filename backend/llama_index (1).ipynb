{
 "cells": [
  {
   "cell_type": "code",
   "execution_count": 1,
   "metadata": {},
   "outputs": [],
   "source": [
    "import os\n",
    "from sqlalchemy import create_engine\n",
    "\n",
    "db_config = {\n",
    "    \"user\": \"postgres\",\n",
    "    \"password\": \"password\",\n",
    "    \"host\": \"localhost\", \n",
    "    \"port\": \"5432\", \n",
    "    \"database\": \"hris\" \n",
    "}\n",
    "\n",
    "# Construct the database URL\n",
    "database_url = f\"postgresql://{db_config['user']}:{db_config['password']}@{db_config['host']}:{db_config['port']}/{db_config['database']}\"\n",
    "\n",
    "\n",
    "if database_url is None:\n",
    "    raise Exception(\"DATABASE_URL environment variable not set\")\n",
    "\n",
    "engine = create_engine(database_url)"
   ]
  },
  {
   "cell_type": "code",
   "execution_count": 2,
   "metadata": {},
   "outputs": [],
   "source": [
    "tables_context = [\n",
    "    {\n",
    "        \"table_name\": \"employee\",\n",
    "        \"context\": \"List of employee in the app, contains first_name, last_name, email, gender, role, company, working_hours (weekly), and progress.\",\n",
    "    },\n",
    "    {\n",
    "        \"table_name\": \"absensi_harian\",\n",
    "        \"context\": \"Records daily attendance information for employees, capturing absence statuses. Contains employee_id, date, month, year, status (mean ontime or tardiness), overtime_hours, work_hours per day.\",\n",
    "    },\n",
    "]"
   ]
  },
  {
   "cell_type": "code",
   "execution_count": 3,
   "metadata": {},
   "outputs": [],
   "source": [
    "from llama_index.llms.openai import OpenAI\n",
    "from llama_index.core import SQLDatabase\n",
    "import openai\n",
    "\n",
    "OPENAI_API_KEY = \"\"\n",
    "\n",
    "\n",
    "openai.api_key = OPENAI_API_KEY\n",
    "llm = OpenAI(api_key=OPENAI_API_KEY, model=\"ft:gpt-3.5-turbo-0125:personal::9luaAwx2\")\n",
    "\n",
    "sql_database = SQLDatabase(\n",
    "    engine, include_tables=[table[\"table_name\"] for table in tables_context]\n",
    ")"
   ]
  },
  {
   "cell_type": "code",
   "execution_count": 4,
   "metadata": {},
   "outputs": [],
   "source": [
    "from llama_index.core import VectorStoreIndex\n",
    "from llama_index.core.objects import ObjectIndex, SQLTableNodeMapping, SQLTableSchema\n",
    "import pandas as pd\n",
    "\n",
    "# list all the tables from database and crate table schema for prompt to LLM\n",
    "tables = list(sql_database._all_tables)\n",
    "table_node_mapping = SQLTableNodeMapping(sql_database)\n",
    "table_schema_objs = []\n",
    "for idx, table in enumerate(tables):\n",
    "    table_schema_objs.append((SQLTableSchema(table_name = table, context_str = tables_context[idx][\"context\"])))"
   ]
  },
  {
   "cell_type": "code",
   "execution_count": 5,
   "metadata": {},
   "outputs": [],
   "source": [
    "from llama_index.core.indices.struct_store.sql_query import SQLTableRetrieverQueryEngine\n",
    "\n",
    "# create a object index to store vectors \n",
    "obj_index = ObjectIndex.from_objects(\n",
    "    table_schema_objs,\n",
    "    table_node_mapping,\n",
    "    VectorStoreIndex\n",
    ")\n",
    "\n",
    "# initializing query engine \n",
    "query_engine = SQLTableRetrieverQueryEngine(\n",
    "    sql_database, obj_index.as_retriever(similarity_top_k=3), \n",
    ")\n",
    "\n",
    "# Ask query to query engine and store it in a response variable\n",
    "response = query_engine.query(\"Ganti nama dimas menjadi dimasa\")"
   ]
  },
  {
   "cell_type": "code",
   "execution_count": 6,
   "metadata": {},
   "outputs": [
    {
     "name": "stdout",
     "output_type": "stream",
     "text": [
      "The name \"dimas\" has been successfully changed to \"dimasa\" in the employee database.\n"
     ]
    }
   ],
   "source": [
    "print(response)"
   ]
  },
  {
   "cell_type": "code",
   "execution_count": 13,
   "metadata": {},
   "outputs": [],
   "source": [
    "from sqlalchemy import create_engine\n",
    "from sqlalchemy.orm import sessionmaker\n",
    "\n",
    "engine = create_engine(database_url)\n",
    "Session = sessionmaker(bind=engine)\n",
    "session = Session()"
   ]
  },
  {
   "cell_type": "code",
   "execution_count": 19,
   "metadata": {},
   "outputs": [
    {
     "name": "stdout",
     "output_type": "stream",
     "text": [
      "Generated SQL Query: The SQL query provided is invalid. The correct query to insert or update the employee data based on the given information should be:\n",
      "\n",
      "INSERT INTO employee (first_name, last_name, email, gender, role, working_hours)\n",
      "VALUES ('John', 'Doe', 'john.doe@example.com', 'Male', 'Engineer', 40)\n",
      "ON DUPLICATE KEY UPDATE\n",
      "    first_name = VALUES(first_name),\n",
      "    last_name = VALUES(last_name),\n",
      "    gender = VALUES(gender),\n",
      "    role = VALUES(role),\n",
      "    working_hours = VALUES(working_hours);\n"
     ]
    }
   ],
   "source": [
    "def add_or_update_employee(employee_data):\n",
    "    prompt = f\"\"\"\n",
    "    Given the following table schema: {table_schema_objs[0].context_str}\n",
    "    Write an SQL query to insert or update the employee data. Based on this information {employee_data}\n",
    "    \"\"\"\n",
    "    query_engine = SQLTableRetrieverQueryEngine(\n",
    "        sql_database, obj_index.as_retriever(similarity_top_k=3), \n",
    "    )\n",
    "\n",
    "    # Ask query to query engine and store it in a response variable\n",
    "    response = query_engine.query(prompt)\n",
    "    print(response)\n",
    "    \n",
    "    # try:\n",
    "    #     session.execute(sql_query)\n",
    "    #     session.commit()\n",
    "    #     print(\"Employee data added/updated successfully.\")\n",
    "    # except Exception as e:\n",
    "    #     session.rollback()\n",
    "    #     print(\"Error:\", str(e))\n",
    "\n",
    "# Example employee data to be added or updated\n",
    "\n",
    "employee_data = {\n",
    "    \"first_name\": \"John\",\n",
    "    \"last_name\": \"Doe\",\n",
    "    \"email\": \"john.doe@example.com\",\n",
    "    \"gender\": \"Male\",\n",
    "    \"role\": \"Engineer\",\n",
    "    \"working_hours\": 40\n",
    "}\n",
    "\n",
    "add_or_update_employee(employee_data)"
   ]
  }
 ],
 "metadata": {
  "kernelspec": {
   "display_name": "base",
   "language": "python",
   "name": "python3"
  },
  "language_info": {
   "codemirror_mode": {
    "name": "ipython",
    "version": 3
   },
   "file_extension": ".py",
   "mimetype": "text/x-python",
   "name": "python",
   "nbconvert_exporter": "python",
   "pygments_lexer": "ipython3",
   "version": "3.11.3"
  }
 },
 "nbformat": 4,
 "nbformat_minor": 2
}

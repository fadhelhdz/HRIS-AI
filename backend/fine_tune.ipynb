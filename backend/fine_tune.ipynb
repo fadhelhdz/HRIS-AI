{
 "cells": [
  {
   "cell_type": "code",
   "execution_count": 5,
   "metadata": {},
   "outputs": [
    {
     "name": "stdout",
     "output_type": "stream",
     "text": [
      "File uploaded:  FileObject(id='file-tER7lguTiEJjhBGgFbUJPRyT', bytes=175469, created_at=1721275390, filename='fine_tune_evaluation.jsonl', object='file', purpose='fine-tune', status='processed', status_details=None)\n"
     ]
    }
   ],
   "source": [
    "import os\n",
    "import openai\n",
    "from openai import OpenAI\n",
    "\n",
    "openai.api_key = \"\"\n",
    "os.environ[\"OPENAI_API_KEY\"] = \"\"\n",
    "\n",
    "# Upload file\n",
    "client = OpenAI()\n",
    "\n",
    "file = client.files.create(\n",
    "  file=open(\"fine_tune_evaluation.jsonl\", \"rb\"),\n",
    "  purpose=\"fine-tune\"\n",
    ")\n",
    "print('File uploaded: ', file)"
   ]
  },
  {
   "cell_type": "code",
   "execution_count": 6,
   "metadata": {},
   "outputs": [
    {
     "data": {
      "text/plain": [
       "FineTuningJob(id='ftjob-E6QopVY00j2yMPqZPt7QEY3W', created_at=1721275402, error=Error(code=None, message=None, param=None), fine_tuned_model=None, finished_at=None, hyperparameters=Hyperparameters(n_epochs='auto', batch_size='auto', learning_rate_multiplier='auto'), model='gpt-3.5-turbo-0125', object='fine_tuning.job', organization_id='org-pZv7qEgsAPAfug6B5d7EyCaT', result_files=[], seed=35866100, status='validating_files', trained_tokens=None, training_file='file-tER7lguTiEJjhBGgFbUJPRyT', validation_file=None, estimated_finish=None, integrations=[], user_provided_suffix=None)"
      ]
     },
     "execution_count": 6,
     "metadata": {},
     "output_type": "execute_result"
    }
   ],
   "source": [
    "from openai import OpenAI\n",
    "client = OpenAI()\n",
    "\n",
    "client.fine_tuning.jobs.create(\n",
    "  training_file=\"file-tER7lguTiEJjhBGgFbUJPRyT\", \n",
    "  model=\"gpt-3.5-turbo\"\n",
    ")"
   ]
  },
  {
   "cell_type": "code",
   "execution_count": 7,
   "metadata": {},
   "outputs": [
    {
     "data": {
      "text/plain": [
       "SyncCursorPage[FineTuningJob](data=[FineTuningJob(id='ftjob-E6QopVY00j2yMPqZPt7QEY3W', created_at=1721275402, error=Error(code='invalid_training_file', message='The job failed due to an invalid training file. Expected file to have JSONL format, where every line is a valid JSON dictionary. Line 1 is not a dictionary.', param='training_file'), fine_tuned_model=None, finished_at=None, hyperparameters=Hyperparameters(n_epochs='auto', batch_size='auto', learning_rate_multiplier='auto'), model='gpt-3.5-turbo-0125', object='fine_tuning.job', organization_id='org-pZv7qEgsAPAfug6B5d7EyCaT', result_files=[], seed=35866100, status='failed', trained_tokens=None, training_file='file-tER7lguTiEJjhBGgFbUJPRyT', validation_file=None, estimated_finish=None, integrations=[], user_provided_suffix=None), FineTuningJob(id='ftjob-KT6iy6MKLveyH8WwY1NxrL15', created_at=1721275323, error=Error(code='invalid_training_file', message='The job failed due to an invalid training file. Expected file to have JSONL format, where every line is a valid JSON dictionary. Line 1 is not a dictionary.', param='training_file'), fine_tuned_model=None, finished_at=None, hyperparameters=Hyperparameters(n_epochs='auto', batch_size='auto', learning_rate_multiplier='auto'), model='gpt-3.5-turbo-0125', object='fine_tuning.job', organization_id='org-pZv7qEgsAPAfug6B5d7EyCaT', result_files=[], seed=658556749, status='failed', trained_tokens=None, training_file='file-P4FSvocjXI9baEvQCQerpkPC', validation_file=None, estimated_finish=None, integrations=[], user_provided_suffix=None), FineTuningJob(id='ftjob-6ew3bPqTF3yjXoJ2YSOBMfJm', created_at=1721275122, error=Error(code='invalid_training_file', message='The job failed due to an invalid training file. Expected file to have JSONL format, where every line is a valid JSON dictionary. Line 1 is not a dictionary.', param='training_file'), fine_tuned_model=None, finished_at=None, hyperparameters=Hyperparameters(n_epochs='auto', batch_size='auto', learning_rate_multiplier='auto'), model='gpt-3.5-turbo-0125', object='fine_tuning.job', organization_id='org-pZv7qEgsAPAfug6B5d7EyCaT', result_files=[], seed=234202179, status='failed', trained_tokens=None, training_file='file-P4FSvocjXI9baEvQCQerpkPC', validation_file=None, estimated_finish=None, integrations=[], user_provided_suffix=None), FineTuningJob(id='ftjob-Fip2VpaC5GCNM9EFOuDla0G5', created_at=1721205273, error=Error(code=None, message=None, param=None), fine_tuned_model='ft:gpt-3.5-turbo-0125:personal::9luaAwx2', finished_at=1721205944, hyperparameters=Hyperparameters(n_epochs=3, batch_size=1, learning_rate_multiplier=2), model='gpt-3.5-turbo-0125', object='fine_tuning.job', organization_id='org-pZv7qEgsAPAfug6B5d7EyCaT', result_files=['file-iU6r1lb8Igo4eItJVM1SkJJ3'], seed=1549250716, status='succeeded', trained_tokens=27600, training_file='file-SHklOhUBEKCKowg4XvCc9NES', validation_file=None, estimated_finish=None, integrations=[], user_provided_suffix=None)], object='list', has_more=False)"
      ]
     },
     "execution_count": 7,
     "metadata": {},
     "output_type": "execute_result"
    }
   ],
   "source": [
    "client.fine_tuning.jobs.list(limit=10)"
   ]
  },
  {
   "cell_type": "code",
   "execution_count": 22,
   "metadata": {},
   "outputs": [
    {
     "name": "stdout",
     "output_type": "stream",
     "text": [
      "ChatCompletionMessage(content=\"INSERT INTO employee (first_name)\\n        VALUES ('Dimas')\\n        ON CONFLICT (first_name)\\n        DO UPDATE SET \\n            first_name = EXCLUDED.first_name\\n        WHERE employee.first_name = 'Tom';\", role='assistant', function_call=None, tool_calls=None)\n"
     ]
    }
   ],
   "source": [
    "from openai import OpenAI\n",
    "client = OpenAI()\n",
    "\n",
    "completion = client.chat.completions.create(\n",
    "  model=\"ft:gpt-3.5-turbo-0125:personal::9luaAwx2\",\n",
    "  messages=[\n",
    "    {\"role\": \"system\", \"content\": \"You are an assistant to outputs SQL queries for INSERT or UPDATE statements only.\"},\n",
    "    {\"role\": \"user\", \"content\": \"Masukan karyawan baru dengan nama dimas serta ubah karyawan lama Tom menjadi Tomi\"},\n",
    "  ]\n",
    ")\n",
    "print(completion.choices[0].message.content)"
   ]
  },
  {
   "cell_type": "code",
   "execution_count": 23,
   "metadata": {},
   "outputs": [
    {
     "name": "stdout",
     "output_type": "stream",
     "text": [
      "INSERT INTO employee (first_name)\n",
      "        VALUES ('Dimas')\n",
      "        ON CONFLICT (first_name)\n",
      "        DO UPDATE SET \n",
      "            first_name = EXCLUDED.first_name\n",
      "        WHERE employee.first_name = 'Tom';\n"
     ]
    }
   ],
   "source": [
    "print(completion.choices[0].message.content)"
   ]
  }
 ],
 "metadata": {
  "kernelspec": {
   "display_name": "sam",
   "language": "python",
   "name": "python3"
  },
  "language_info": {
   "codemirror_mode": {
    "name": "ipython",
    "version": 3
   },
   "file_extension": ".py",
   "mimetype": "text/x-python",
   "name": "python",
   "nbconvert_exporter": "python",
   "pygments_lexer": "ipython3",
   "version": "3.11.3"
  }
 },
 "nbformat": 4,
 "nbformat_minor": 2
}
